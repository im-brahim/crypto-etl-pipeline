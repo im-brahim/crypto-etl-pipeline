{
 "cells": [
  {
   "cell_type": "code",
   "execution_count": 1,
   "id": "6d074087-9436-47cb-9ef3-419f41dd1fc2",
   "metadata": {},
   "outputs": [],
   "source": [
    "from pyspark.sql import SparkSession"
   ]
  },
  {
   "cell_type": "code",
   "execution_count": 2,
   "id": "4bd4f809-e2d0-4bd3-9ee3-f24f28bbabda",
   "metadata": {},
   "outputs": [],
   "source": [
    "spark = SparkSession.builder \\\n",
    "    .appName(\"Read Crypto from MinIO\") \\\n",
    "    .config(\"spark.hadoop.fs.s3a.endpoint\", \"http://minio:9000\") \\\n",
    "    .config(\"spark.hadoop.fs.s3a.access.key\", \"minio\") \\\n",
    "    .config(\"spark.hadoop.fs.s3a.secret.key\", \"00000000\") \\\n",
    "    .config(\"spark.hadoop.fs.s3a.path.style.access\", \"true\") \\\n",
    "    .config(\"spark.hadoop.fs.s3a.impl\", \"org.apache.hadoop.fs.s3a.S3AFileSystem\") \\\n",
    "    .config(\"spark.jars\", \"/opt/spark/jars/hadoop-aws-3.3.4.jar,/opt/spark/jars/aws-java-sdk-bundle-1.12.262.jar\") \\\n",
    "    .getOrCreate()"
   ]
  },
  {
   "cell_type": "code",
   "execution_count": 4,
   "id": "38e52939-3fd0-4ffe-a81f-4df20adf3f47",
   "metadata": {},
   "outputs": [
    {
     "data": {
      "text/html": [
       "\n",
       "            <div>\n",
       "                <p><b>SparkSession - in-memory</b></p>\n",
       "                \n",
       "        <div>\n",
       "            <p><b>SparkContext</b></p>\n",
       "\n",
       "            <p><a href=\"http://96fb18ca0b62:4040\">Spark UI</a></p>\n",
       "\n",
       "            <dl>\n",
       "              <dt>Version</dt>\n",
       "                <dd><code>v3.5.0</code></dd>\n",
       "              <dt>Master</dt>\n",
       "                <dd><code>local[*]</code></dd>\n",
       "              <dt>AppName</dt>\n",
       "                <dd><code>Read Crypto from MinIO</code></dd>\n",
       "            </dl>\n",
       "        </div>\n",
       "        \n",
       "            </div>\n",
       "        "
      ],
      "text/plain": [
       "<pyspark.sql.session.SparkSession at 0x7f77781bb210>"
      ]
     },
     "execution_count": 4,
     "metadata": {},
     "output_type": "execute_result"
    }
   ],
   "source": [
    "spark"
   ]
  },
  {
   "cell_type": "code",
   "execution_count": 5,
   "id": "4f278996-0bb1-47a6-8564-f0f7f6f492fb",
   "metadata": {
    "scrolled": true
   },
   "outputs": [],
   "source": [
    "df = spark.read.parquet(\"s3a://crypto/crypto_parquet\")"
   ]
  },
  {
   "cell_type": "code",
   "execution_count": 8,
   "id": "004d2259-a604-473f-b550-3daa8970518c",
   "metadata": {},
   "outputs": [],
   "source": [
    "dfj = spark.read.json(\"s3a://crypto/crypto.json\")"
   ]
  },
  {
   "cell_type": "code",
   "execution_count": 6,
   "id": "adfeb57d-6e05-4688-9c7e-1b33bb139ac3",
   "metadata": {},
   "outputs": [
    {
     "name": "stdout",
     "output_type": "stream",
     "text": [
      "+--------------------+-----------+------------+\n",
      "|           timestamp|bitcoin_usd|ethereum_usd|\n",
      "+--------------------+-----------+------------+\n",
      "|2025-04-15T18:00:...|      84588|     1616.25|\n",
      "|2025-04-15T18:10:...|      84460|     1615.25|\n",
      "|2025-04-15T18:17:...|      84470|     1615.57|\n",
      "|2025-04-15T18:18:...|      84423|     1615.13|\n",
      "|2025-04-15T18:19:...|      84423|     1615.13|\n",
      "|2025-04-15T18:20:...|      84402|     1611.46|\n",
      "|2025-04-15T18:21:...|      84402|     1611.46|\n",
      "|2025-04-15T18:22:...|      84336|     1610.58|\n",
      "|2025-04-15T18:23:...|      84336|     1610.58|\n",
      "|2025-04-15T18:24:...|      84330|     1609.14|\n",
      "|2025-04-15T18:25:...|      84330|     1609.14|\n",
      "|2025-04-15T18:26:...|      84283|     1609.02|\n",
      "|2025-04-15T18:27:...|      84283|     1609.02|\n",
      "|2025-04-15T18:28:...|      84284|     1609.05|\n",
      "|2025-04-15T18:29:...|      84284|     1609.05|\n",
      "|2025-04-15T18:30:...|      84284|     1609.19|\n",
      "|2025-04-15T18:31:...|      84290|     1609.06|\n",
      "|2025-04-15T18:32:...|      84298|     1609.12|\n",
      "|2025-04-15T18:33:...|      84298|     1609.12|\n",
      "|2025-04-15T18:34:...|      84323|      1609.5|\n",
      "+--------------------+-----------+------------+\n",
      "only showing top 20 rows\n",
      "\n"
     ]
    }
   ],
   "source": [
    "df.show()"
   ]
  },
  {
   "cell_type": "code",
   "execution_count": 10,
   "id": "c7cf3e2d-5a06-4b4b-a7c5-defa0812bb13",
   "metadata": {},
   "outputs": [
    {
     "name": "stdout",
     "output_type": "stream",
     "text": [
      "+-------+---------+--------------------+\n",
      "|bitcoin| ethereum|           timestamp|\n",
      "+-------+---------+--------------------+\n",
      "|{84588}|{1616.25}|2025-04-15T18:00:...|\n",
      "|{84460}|{1615.25}|2025-04-15T18:10:...|\n",
      "|{84470}|{1615.57}|2025-04-15T18:17:...|\n",
      "|{84423}|{1615.13}|2025-04-15T18:18:...|\n",
      "|{84423}|{1615.13}|2025-04-15T18:19:...|\n",
      "|{84402}|{1611.46}|2025-04-15T18:20:...|\n",
      "|{84402}|{1611.46}|2025-04-15T18:21:...|\n",
      "|{84336}|{1610.58}|2025-04-15T18:22:...|\n",
      "|{84336}|{1610.58}|2025-04-15T18:23:...|\n",
      "|{84330}|{1609.14}|2025-04-15T18:24:...|\n",
      "|{84330}|{1609.14}|2025-04-15T18:25:...|\n",
      "|{84283}|{1609.02}|2025-04-15T18:26:...|\n",
      "|{84283}|{1609.02}|2025-04-15T18:27:...|\n",
      "|{84284}|{1609.05}|2025-04-15T18:28:...|\n",
      "|{84284}|{1609.05}|2025-04-15T18:29:...|\n",
      "|{84284}|{1609.19}|2025-04-15T18:30:...|\n",
      "|{84290}|{1609.06}|2025-04-15T18:31:...|\n",
      "|{84298}|{1609.12}|2025-04-15T18:32:...|\n",
      "|{84298}|{1609.12}|2025-04-15T18:33:...|\n",
      "|{84323}| {1609.5}|2025-04-15T18:34:...|\n",
      "+-------+---------+--------------------+\n",
      "only showing top 20 rows\n",
      "\n"
     ]
    }
   ],
   "source": [
    "dfj.show()"
   ]
  },
  {
   "cell_type": "code",
   "execution_count": null,
   "id": "89b45b6e-4a4f-4609-beb7-ed96c249f6fd",
   "metadata": {},
   "outputs": [],
   "source": []
  },
  {
   "cell_type": "code",
   "execution_count": null,
   "id": "eb21404a-56a3-4190-826b-6c05eed6c147",
   "metadata": {},
   "outputs": [],
   "source": []
  },
  {
   "cell_type": "code",
   "execution_count": null,
   "id": "636070ac-2e86-47de-86d6-823087beb995",
   "metadata": {},
   "outputs": [],
   "source": []
  },
  {
   "cell_type": "code",
   "execution_count": 22,
   "id": "137ee3b6-fc23-4e05-b248-8aef43c16317",
   "metadata": {},
   "outputs": [],
   "source": [
    "spark.stop()"
   ]
  },
  {
   "cell_type": "code",
   "execution_count": null,
   "id": "ddf3d199-236f-498e-930f-aad7cb91c8ea",
   "metadata": {},
   "outputs": [],
   "source": []
  },
  {
   "cell_type": "markdown",
   "id": "7d30ae26-aacb-4ae6-92b2-6c602832d8cc",
   "metadata": {},
   "source": [
    "# ---------------------------------------------------------"
   ]
  },
  {
   "cell_type": "code",
   "execution_count": 2,
   "id": "48b854ea-b9a2-4ffc-ae75-889803c43db6",
   "metadata": {},
   "outputs": [],
   "source": [
    "from pyspark.sql import SparkSession"
   ]
  },
  {
   "cell_type": "code",
   "execution_count": null,
   "id": "472acbcb-6c20-422a-a626-3b07c79c4370",
   "metadata": {},
   "outputs": [],
   "source": [
    "spark = SparkSession.builder \\\n",
    "    .appName(\"Read Crypto from MinIO\") \\\n",
    "    .config(\"spark.hadoop.fs.s3a.endpoint\", \"http://minio:9000\") \\\n",
    "    .config(\"spark.hadoop.fs.s3a.access.key\", \"minio\") \\\n",
    "    .config(\"spark.hadoop.fs.s3a.secret.key\", \"00000000\") \\\n",
    "    .config(\"spark.hadoop.fs.s3a.path.style.access\", \"true\") \\\n",
    "    .config(\"spark.hadoop.fs.s3a.impl\", \"org.apache.hadoop.fs.s3a.S3AFileSystem\") \\\n",
    "    .config(\"spark.jars\", \"/opt/spark/jars/hadoop-aws-3.3.4.jar,/opt/spark/jars/aws-java-sdk-bundle-1.12.262.jar\") \\\n",
    "    .getOrCreate()"
   ]
  },
  {
   "cell_type": "code",
   "execution_count": 11,
   "id": "8f2484ad-d2a8-4642-9362-817e57245ede",
   "metadata": {},
   "outputs": [],
   "source": [
    "df_raw = spark.read.text(\"s3a://crypto/crypto.json\")"
   ]
  },
  {
   "cell_type": "code",
   "execution_count": 12,
   "id": "5f6d9d00-a3b4-4b3d-81e3-7538b2a01ddf",
   "metadata": {},
   "outputs": [
    {
     "name": "stdout",
     "output_type": "stream",
     "text": [
      "+--------------------+\n",
      "|               value|\n",
      "+--------------------+\n",
      "|{\"bitcoin\": {\"usd...|\n",
      "|{\"bitcoin\": {\"usd...|\n",
      "|{\"bitcoin\": {\"usd...|\n",
      "|{\"bitcoin\": {\"usd...|\n",
      "|{\"bitcoin\": {\"usd...|\n",
      "|{\"bitcoin\": {\"usd...|\n",
      "|{\"bitcoin\": {\"usd...|\n",
      "|{\"bitcoin\": {\"usd...|\n",
      "|{\"bitcoin\": {\"usd...|\n",
      "|{\"bitcoin\": {\"usd...|\n",
      "|{\"bitcoin\": {\"usd...|\n",
      "|{\"bitcoin\": {\"usd...|\n",
      "|{\"bitcoin\": {\"usd...|\n",
      "|{\"bitcoin\": {\"usd...|\n",
      "|{\"bitcoin\": {\"usd...|\n",
      "|{\"bitcoin\": {\"usd...|\n",
      "|{\"bitcoin\": {\"usd...|\n",
      "|{\"bitcoin\": {\"usd...|\n",
      "|{\"bitcoin\": {\"usd...|\n",
      "|{\"bitcoin\": {\"usd...|\n",
      "+--------------------+\n",
      "only showing top 20 rows\n",
      "\n"
     ]
    }
   ],
   "source": [
    "df_raw.show()"
   ]
  },
  {
   "cell_type": "code",
   "execution_count": 19,
   "id": "bbdf469c-c867-4ab7-a2b0-b685b0f755ef",
   "metadata": {},
   "outputs": [],
   "source": [
    "from pyspark.sql.types import StructType, StructField, DoubleType, StringType, TimestampType\n",
    "from pyspark.sql.functions import from_json, col, explode, lit\n",
    "import json"
   ]
  },
  {
   "cell_type": "code",
   "execution_count": 20,
   "id": "cb92a1a4-51e2-4fba-b4f2-776252297ea2",
   "metadata": {
    "scrolled": true
   },
   "outputs": [],
   "source": [
    "# Define schema for one record\n",
    "schema = StructType([\n",
    "    StructField(\"bitcoin\", StructType([\n",
    "        StructField(\"usd\", DoubleType())\n",
    "    ])),\n",
    "    StructField(\"ethereum\", StructType([\n",
    "        StructField(\"usd\", DoubleType())\n",
    "    ])),\n",
    "    StructField(\"timestamp\", StringType())\n",
    "])"
   ]
  },
  {
   "cell_type": "code",
   "execution_count": 21,
   "id": "9509a23c-73ac-491c-b056-5a492fbe8ec3",
   "metadata": {},
   "outputs": [
    {
     "name": "stdout",
     "output_type": "stream",
     "text": [
      "+---------+---------+--------------------------+\n",
      "|bitcoin  |ethereum |timestamp                 |\n",
      "+---------+---------+--------------------------+\n",
      "|{84588.0}|{1616.25}|2025-04-15T18:00:01.109526|\n",
      "|{84460.0}|{1615.25}|2025-04-15T18:10:24.733323|\n",
      "|{84470.0}|{1615.57}|2025-04-15T18:17:28.241728|\n",
      "|{84423.0}|{1615.13}|2025-04-15T18:18:01.604615|\n",
      "|{84423.0}|{1615.13}|2025-04-15T18:19:01.595683|\n",
      "|{84402.0}|{1611.46}|2025-04-15T18:20:01.686312|\n",
      "|{84402.0}|{1611.46}|2025-04-15T18:21:01.899830|\n",
      "|{84336.0}|{1610.58}|2025-04-15T18:22:01.415763|\n",
      "|{84336.0}|{1610.58}|2025-04-15T18:23:01.988695|\n",
      "|{84330.0}|{1609.14}|2025-04-15T18:24:01.988530|\n",
      "|{84330.0}|{1609.14}|2025-04-15T18:25:00.933419|\n",
      "|{84283.0}|{1609.02}|2025-04-15T18:26:01.142748|\n",
      "|{84283.0}|{1609.02}|2025-04-15T18:27:00.925508|\n",
      "|{84284.0}|{1609.05}|2025-04-15T18:28:01.281821|\n",
      "|{84284.0}|{1609.05}|2025-04-15T18:29:00.872264|\n",
      "|{84284.0}|{1609.19}|2025-04-15T18:30:01.423254|\n",
      "|{84290.0}|{1609.06}|2025-04-15T18:31:01.468038|\n",
      "|{84298.0}|{1609.12}|2025-04-15T18:32:01.582858|\n",
      "|{84298.0}|{1609.12}|2025-04-15T18:33:01.471965|\n",
      "|{84323.0}|{1609.5} |2025-04-15T18:34:01.940972|\n",
      "+---------+---------+--------------------------+\n",
      "only showing top 20 rows\n",
      "\n"
     ]
    }
   ],
   "source": [
    "# Parse each line to JSON\n",
    "ndf = df_raw.select(from_json(col(\"value\"), schema).alias(\"data\")).select(\"data.*\")\n",
    "\n",
    "ndf.show(truncate=False)"
   ]
  },
  {
   "cell_type": "code",
   "execution_count": null,
   "id": "aacc5f98-9930-4e7a-84b3-43e423cb4df9",
   "metadata": {},
   "outputs": [],
   "source": []
  },
  {
   "cell_type": "code",
   "execution_count": null,
   "id": "6b5ba96f-148c-44b7-8e4e-21271a7586d5",
   "metadata": {},
   "outputs": [],
   "source": []
  },
  {
   "cell_type": "code",
   "execution_count": null,
   "id": "fce60238-cbe9-43f0-8e76-8ad38a7d8bb8",
   "metadata": {},
   "outputs": [],
   "source": []
  },
  {
   "cell_type": "code",
   "execution_count": null,
   "id": "888554fb-6d77-4b1d-8c00-33f0e1453a67",
   "metadata": {},
   "outputs": [],
   "source": []
  }
 ],
 "metadata": {
  "kernelspec": {
   "display_name": "Python 3 (ipykernel)",
   "language": "python",
   "name": "python3"
  },
  "language_info": {
   "codemirror_mode": {
    "name": "ipython",
    "version": 3
   },
   "file_extension": ".py",
   "mimetype": "text/x-python",
   "name": "python",
   "nbconvert_exporter": "python",
   "pygments_lexer": "ipython3",
   "version": "3.11.6"
  }
 },
 "nbformat": 4,
 "nbformat_minor": 5
}
