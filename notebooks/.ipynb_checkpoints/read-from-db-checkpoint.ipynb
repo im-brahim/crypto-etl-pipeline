{
 "cells": [
  {
   "cell_type": "code",
   "execution_count": 21,
   "id": "3b698642-2a65-4d81-b824-087ffefb00ca",
   "metadata": {},
   "outputs": [],
   "source": [
    "spark.stop()"
   ]
  },
  {
   "cell_type": "code",
   "execution_count": 8,
   "id": "bf41ab5e-cebf-465d-b705-5a43374ce68d",
   "metadata": {},
   "outputs": [],
   "source": [
    "from pyspark.sql import SparkSession"
   ]
  },
  {
   "cell_type": "code",
   "execution_count": 16,
   "id": "2beb9809-cc13-4b47-9565-9bab7070a868",
   "metadata": {},
   "outputs": [],
   "source": [
    "spark = SparkSession.builder \\\n",
    "    .appName(\"Read Data from Postgres\") \\\n",
    "    .master(\"spark://master:7077\") \\\n",
    "    .getOrCreate()\n",
    "#.config(\"spark.jars\", \"/opt/spark/jars/postgresql-42.6.0.jar\") \\\n",
    "#  add This to connect to MinIO:  /opt/spark/jars/hadoop-aws-3.3.4.jar,/opt/spark/jars/aws-java-sdk-bundle-1.12.262.jar,\n",
    "#     .config(\"spark.hadoop.fs.s3a.impl\", \"org.apache.hadoop.fs.s3a.S3AFileSystem\") \\"
   ]
  },
  {
   "cell_type": "code",
   "execution_count": 17,
   "id": "1c9caab8-d20b-4476-9dad-626848f7df6b",
   "metadata": {},
   "outputs": [
    {
     "data": {
      "text/html": [
       "\n",
       "            <div>\n",
       "                <p><b>SparkSession - in-memory</b></p>\n",
       "                \n",
       "        <div>\n",
       "            <p><b>SparkContext</b></p>\n",
       "\n",
       "            <p><a href=\"http://312f1e10ce41:4040\">Spark UI</a></p>\n",
       "\n",
       "            <dl>\n",
       "              <dt>Version</dt>\n",
       "                <dd><code>v3.5.0</code></dd>\n",
       "              <dt>Master</dt>\n",
       "                <dd><code>spark://master:7077</code></dd>\n",
       "              <dt>AppName</dt>\n",
       "                <dd><code>Read Data from Postgres</code></dd>\n",
       "            </dl>\n",
       "        </div>\n",
       "        \n",
       "            </div>\n",
       "        "
      ],
      "text/plain": [
       "<pyspark.sql.session.SparkSession at 0x7f15208cbed0>"
      ]
     },
     "execution_count": 17,
     "metadata": {},
     "output_type": "execute_result"
    }
   ],
   "source": [
    "spark"
   ]
  },
  {
   "cell_type": "code",
   "execution_count": 18,
   "id": "ff9f619c-8f12-4372-8c30-68da3ce5a075",
   "metadata": {},
   "outputs": [],
   "source": [
    "df = spark.read \\\n",
    "    .format(\"jdbc\") \\\n",
    "    .option(\"url\", \"jdbc:postgresql://postgres:5432/airflow\") \\\n",
    "    .option(\"dbtable\", \"crypto_prices\") \\\n",
    "    .option(\"user\", \"airflow\") \\\n",
    "    .option(\"password\", \"airflow\") \\\n",
    "    .option(\"driver\", \"org.postgresql.Driver\") \\\n",
    "    .load()"
   ]
  },
  {
   "cell_type": "code",
   "execution_count": 19,
   "id": "7f7cc396-5f1a-4287-9b28-a711d2377a1a",
   "metadata": {},
   "outputs": [
    {
     "name": "stdout",
     "output_type": "stream",
     "text": [
      "+--------------------+-----------+------------+\n",
      "|           timestamp|bitcoin_usd|ethereum_usd|\n",
      "+--------------------+-----------+------------+\n",
      "|2025-04-15 18:00:...|    84588.0|     1616.25|\n",
      "|2025-04-15 18:10:...|    84460.0|     1615.25|\n",
      "|2025-04-15 18:17:...|    84470.0|     1615.57|\n",
      "|2025-04-15 18:18:...|    84423.0|     1615.13|\n",
      "|2025-04-15 18:19:...|    84423.0|     1615.13|\n",
      "|2025-04-15 18:20:...|    84402.0|     1611.46|\n",
      "|2025-04-15 18:21:...|    84402.0|     1611.46|\n",
      "|2025-04-15 18:22:...|    84336.0|     1610.58|\n",
      "|2025-04-15 18:23:...|    84336.0|     1610.58|\n",
      "|2025-04-15 18:24:...|    84330.0|     1609.14|\n",
      "|2025-04-15 18:25:...|    84330.0|     1609.14|\n",
      "|2025-04-15 18:26:...|    84283.0|     1609.02|\n",
      "|2025-04-15 18:27:...|    84283.0|     1609.02|\n",
      "|2025-04-15 18:28:...|    84284.0|     1609.05|\n",
      "|2025-04-15 18:29:...|    84284.0|     1609.05|\n",
      "|2025-04-15 18:30:...|    84284.0|     1609.19|\n",
      "|2025-04-15 18:31:...|    84290.0|     1609.06|\n",
      "|2025-04-15 18:32:...|    84298.0|     1609.12|\n",
      "|2025-04-15 18:33:...|    84298.0|     1609.12|\n",
      "|2025-04-15 18:34:...|    84323.0|      1609.5|\n",
      "+--------------------+-----------+------------+\n",
      "only showing top 20 rows\n",
      "\n"
     ]
    }
   ],
   "source": [
    "df.show()"
   ]
  },
  {
   "cell_type": "code",
   "execution_count": 20,
   "id": "50677c1b-9abf-45c4-a9ef-30ae6134bd73",
   "metadata": {},
   "outputs": [
    {
     "data": {
      "text/plain": [
       "306"
      ]
     },
     "execution_count": 20,
     "metadata": {},
     "output_type": "execute_result"
    }
   ],
   "source": [
    "df.count()"
   ]
  },
  {
   "cell_type": "code",
   "execution_count": 11,
   "id": "e6700b67-2c1c-40c9-906c-031a6fa920e5",
   "metadata": {},
   "outputs": [],
   "source": [
    "spark.stop()"
   ]
  },
  {
   "cell_type": "code",
   "execution_count": null,
   "id": "686584a2-e17e-44b0-af81-bd65600659fd",
   "metadata": {},
   "outputs": [],
   "source": []
  },
  {
   "cell_type": "code",
   "execution_count": null,
   "id": "4d8c0904-cce3-4f67-bda1-91f7694f81c6",
   "metadata": {},
   "outputs": [],
   "source": []
  },
  {
   "cell_type": "code",
   "execution_count": null,
   "id": "ab73432f-c7cf-4056-998f-30acbb09a39c",
   "metadata": {},
   "outputs": [],
   "source": []
  }
 ],
 "metadata": {
  "kernelspec": {
   "display_name": "Python 3 (ipykernel)",
   "language": "python",
   "name": "python3"
  },
  "language_info": {
   "codemirror_mode": {
    "name": "ipython",
    "version": 3
   },
   "file_extension": ".py",
   "mimetype": "text/x-python",
   "name": "python",
   "nbconvert_exporter": "python",
   "pygments_lexer": "ipython3",
   "version": "3.11.6"
  }
 },
 "nbformat": 4,
 "nbformat_minor": 5
}
